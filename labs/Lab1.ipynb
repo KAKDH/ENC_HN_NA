{
 "cells": [
  {
   "cell_type": "markdown",
   "metadata": {},
   "source": [
    "# Lab 1: Getting started with NerworkX \n",
    "## Example 1"
   ]
  },
  {
   "cell_type": "markdown",
   "metadata": {},
   "source": [
    "\n",
    "This notebook contains a mix of tutorials based on William Mattingly's *Introduction to Python for Digital Humanities* (2022) adapted for the needs of NA HN class. \n",
    "\n",
    "We have to start by installing some packages:\n",
    " - `matplotlib` (a comprehensive library for creating static, animated, and interactive visualizations; https://matplotlib.org/stable/; Hunter JD (2007) \"Matplotlib: A 2D Graphics Environment\", *Computing in Science & Engineering*, vol. 9, no. 3, pp. 90-95)\n",
    " - `NetworkX` (a package for the creation, manipulation, and study of the structure, dynamics, and functions of complex networks;  https://networkx.org;  Hagberg A, Schult DA, Swart PJ (2008), “Exploring network structure, dynamics, and function using NetworkX”, in *Proceedings of the 7th Python in Science Conference (SciPy2008)*, Gäel Varoquaux, Travis Vaught, and Jarrod Millman (Eds), (Pasadena, CA USA), pp. 11–15).\n",
    "\n",
    " So go ahead and install them locally with conda or pip. "
   ]
  },
  {
   "cell_type": "markdown",
   "metadata": {},
   "source": [
    "Now import `pyplot` form `matplotlib` as `plt` and `networkx` as `nx`"
   ]
  },
  {
   "cell_type": "code",
   "execution_count": 18,
   "metadata": {},
   "outputs": [],
   "source": [
    "import matplotlib.pyplot as plt\n",
    "import networkx as nx"
   ]
  },
  {
   "cell_type": "markdown",
   "metadata": {},
   "source": [
    "We will start by defining some relationships to work with. \n",
    "Let's assume that we are going to analyse relationships within a group of 6 students, Fred, George, Harry, Rita, Ginny, Tom. \n",
    "They are all students of the same university, but in different MA programmes, so only some of them know each other because they are together in some elective classes.\n",
    "- Fred and George take Math together; \n",
    "- Harry and Rita take French together; \n",
    "- Fred and Ginny take English together; \n",
    "- Tom and Ginny take Philosophy together;\n",
    "- Harry and Ginny take Introduction to DH together.  \n",
    "\n",
    "We will create a list of lists called `relationships`. \n",
    "Ech sub-list will describe one relationship between two people. \n",
    "For now we don't care which class they take together. \n",
    "*Remember: Lists are used to store multiple items in a single variable and are created using square brackets.*"
   ]
  },
  {
   "cell_type": "code",
   "execution_count": 19,
   "metadata": {},
   "outputs": [
    {
     "data": {
      "text/plain": [
       "[['Fred', 'George'],\n",
       " ['Harry', 'Rita'],\n",
       " ['Fred', 'Ginny'],\n",
       " ['Tom', 'Ginny'],\n",
       " ['Harry', 'Ginny']]"
      ]
     },
     "execution_count": 19,
     "metadata": {},
     "output_type": "execute_result"
    }
   ],
   "source": [
    "relationships = [\n",
    "    [\"Fred\", \"George\"],\n",
    "    [\"Harry\", \"Rita\"],\n",
    "    [\"Fred\", \"Ginny\"],\n",
    "    [\"Tom\", \"Ginny\"],\n",
    "    [\"Harry\", \"Ginny\"]\n",
    "    ]\n",
    "relationships"
   ]
  },
  {
   "cell_type": "markdown",
   "metadata": {},
   "source": [
    "In order to begin working with this data in NetworkX, we need to first populate a NetworkX Graph class. We will call this variable G."
   ]
  },
  {
   "cell_type": "code",
   "execution_count": 20,
   "metadata": {},
   "outputs": [],
   "source": [
    "\n",
    "G = nx.Graph()"
   ]
  },
  {
   "cell_type": "markdown",
   "metadata": {},
   "source": [
    "Once created, we can check that our G is empty by printing it. The response should be \"Graph with 0 nodes and 0 edges\"\n",
    "\n"
   ]
  },
  {
   "cell_type": "code",
   "execution_count": 21,
   "metadata": {},
   "outputs": [
    {
     "name": "stdout",
     "output_type": "stream",
     "text": [
      "Graph with 0 nodes and 0 edges\n"
     ]
    }
   ],
   "source": [
    "print(G)"
   ]
  },
  {
   "cell_type": "markdown",
   "metadata": {},
   "source": [
    "Otherwise, we can use `number_of_nodes()`and `number_of_edges` to check it. \n",
    "*Remember for future reference: N, represents the number of components in the system (number of nodes/vertices).* \n",
    "*L, represents the total number of interactions between the nodes (number of links/edges).*\n",
    "\n"
   ]
  },
  {
   "cell_type": "code",
   "execution_count": 22,
   "metadata": {},
   "outputs": [
    {
     "name": "stdout",
     "output_type": "stream",
     "text": [
      "My netwrok has 0 nodes\n"
     ]
    }
   ],
   "source": [
    "\n",
    "print('My netwrok has', G.number_of_nodes(), 'nodes')"
   ]
  },
  {
   "cell_type": "code",
   "execution_count": 23,
   "metadata": {},
   "outputs": [
    {
     "name": "stdout",
     "output_type": "stream",
     "text": [
      "My network has 0 edges\n"
     ]
    }
   ],
   "source": [
    "print ('My network has', G.number_of_edges(), 'edges')"
   ]
  },
  {
   "cell_type": "markdown",
   "metadata": {},
   "source": [
    "Now we populate the graph with relationships one by one using a loop. \n",
    "We will  use the `.add_edge()` method from the `Graph` class. This will take two mandatory arguments: 1) the source node and 2) the destination node. The source and the destination are important in certain circumstances when force is applied in a graph. This controls how the map is displayed visually."
   ]
  },
  {
   "cell_type": "code",
   "execution_count": 24,
   "metadata": {},
   "outputs": [],
   "source": [
    "for relationship in relationships:\n",
    "    source, dest = relationship\n",
    "    G.add_edge(source, dest)"
   ]
  },
  {
   "cell_type": "markdown",
   "metadata": {},
   "source": [
    "Now we can check whether our data was added to the `Graph`. We should have 6 nodes and 5 edges."
   ]
  },
  {
   "cell_type": "code",
   "execution_count": 30,
   "metadata": {},
   "outputs": [
    {
     "name": "stdout",
     "output_type": "stream",
     "text": [
      "My graph has 6 nodes and 5 edges!\n"
     ]
    }
   ],
   "source": [
    "print('My graph has', G.number_of_nodes(), 'nodes and', G.number_of_edges(), 'edges!')"
   ]
  },
  {
   "cell_type": "markdown",
   "metadata": {},
   "source": [
    "With all our edges added into our Graph `G`, we can now plot it with `Matplotlib`. \n",
    "\n",
    "We will use the `draw_networkx()` function to create a plot in memory. This will take one argument, the graph of nodes we wish to visualize. Next, we will use plt.show() to display the map. Since we are working within a Jupyter Notebook, this will be displayed as an output."
   ]
  },
  {
   "cell_type": "code",
   "execution_count": 31,
   "metadata": {},
   "outputs": [
    {
     "data": {
      "image/png": "[encoded data removed]",
      "text/plain": [
       "<Figure size 640x480 with 1 Axes>"
      ]
     },
     "metadata": {},
     "output_type": "display_data"
    }
   ],
   "source": [
    "nx.draw_networkx(G)\n",
    "plt.show()"
   ]
  },
  {
   "cell_type": "markdown",
   "metadata": {},
   "source": [
    "Sometimes, you do not want to use a loop to add each edge individually. Then you can use `add_edges_from()` method to add a list of edges all at once. This method will expect a list of relationships."
   ]
  },
  {
   "cell_type": "code",
   "execution_count": 27,
   "metadata": {},
   "outputs": [
    {
     "data": {
      "image/png": "[encoded data removed]",
      "text/plain": [
       "<Figure size 640x480 with 1 Axes>"
      ]
     },
     "metadata": {},
     "output_type": "display_data"
    }
   ],
   "source": [
    "G = nx.Graph()\n",
    "G.add_edges_from(relationships)\n",
    "nx.draw_networkx(G)\n",
    "plt.show()"
   ]
  },
  {
   "cell_type": "markdown",
   "metadata": {},
   "source": [
    "## Exercise 2\n",
    "Now do the same for the Actor Network illustrated on the slide. For now let's ignore in which movies the actors were together.\n",
    "\n",
    "- Create a list\n",
    "- Populate Graph\n",
    "- Check Number of Nodes (N)\n",
    "- Check Number of Edges (L)\n",
    "- Display Graph"
   ]
  },
  {
   "cell_type": "markdown",
   "metadata": {},
   "source": []
  }
 ],
 "metadata": {
  "kernelspec": {
   "display_name": "kraken_test",
   "language": "python",
   "name": "python3"
  },
  "language_info": {
   "codemirror_mode": {
    "name": "ipython",
    "version": 3
   },
   "file_extension": ".py",
   "mimetype": "text/x-python",
   "name": "python",
   "nbconvert_exporter": "python",
   "pygments_lexer": "ipython3",
   "version": "3.10.15"
  }
 },
 "nbformat": 4,
 "nbformat_minor": 2
}
