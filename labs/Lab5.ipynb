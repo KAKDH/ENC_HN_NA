{
 "cells": [
  {
   "cell_type": "markdown",
   "metadata": {},
   "source": [
    "# Lab 5: Measuring the Influence\n",
    "\n"
   ]
  },
  {
   "cell_type": "code",
   "execution_count": 195,
   "metadata": {},
   "outputs": [],
   "source": [
    "\n",
    "import networkx as nx\n",
    "import numpy as np\n",
    "# For this exercise you need `scipy` and `pygraphviz` installed\n"
   ]
  },
  {
   "cell_type": "markdown",
   "metadata": {},
   "source": [
    "## Example 1: Centrality in undirected network\n",
    "### Example 1.1: Degree centrality\n"
   ]
  },
  {
   "cell_type": "markdown",
   "metadata": {},
   "source": [
    "Last week (Lab4) we learned how to mathematically identify Hamlet as a hub in the dialogue network of characters in Shakespeare's *Hamlet*.\n",
    "\n",
    "To do so we searched for a node with the highest degree(and the hightest degree centrality (which is normalised degree measure)). \n",
    "\n",
    "Let's create a simple undirected network:\n"
   ]
  },
  {
   "cell_type": "code",
   "execution_count": 196,
   "metadata": {},
   "outputs": [
    {
     "data": {
      "image/png": "[encoded data removed]",
      "text/plain": [
       "<Figure size 640x480 with 1 Axes>"
      ]
     },
     "metadata": {},
     "output_type": "display_data"
    }
   ],
   "source": [
    "relationships = [\n",
    "    [\"Anna\", \"Bob\"],\n",
    "    [\"Anna\", \"Caroline\"],\n",
    "    [\"Anna\", \"Dan\"],\n",
    "    [\"Bob\", \"Caroline\"],\n",
    "    [\"Caroline\", \"Chris\"],\n",
    "    [\"Bob\", \"Emma\"],\n",
    "    [\"Emma\", \"Ed\"],\n",
    "    [\"Dan\", \"Dorothy\"],\n",
    "    [\"Dan\", \"DJ\"],\n",
    "    ]\n",
    "\n",
    "G = nx.Graph()\n",
    "G.add_edges_from(relationships)\n",
    "pos = nx.nx_agraph.graphviz_layout(G, prog=\"twopi\") # Requires pygraphviz installed\n",
    "nx.draw_networkx(G, pos, alpha=0.5) #alpha defines the transparency of nodes. "
   ]
  },
  {
   "cell_type": "markdown",
   "metadata": {},
   "source": [
    "Let's find out who is the hub in our network by using degree and degree centrality (normalised degree ):"
   ]
  },
  {
   "cell_type": "code",
   "execution_count": 197,
   "metadata": {},
   "outputs": [
    {
     "name": "stdout",
     "output_type": "stream",
     "text": [
      "Degree centrality of all nodes in G (G_dc): {'Anna': 0.375, 'Bob': 0.375, 'Caroline': 0.375, 'Dan': 0.375, 'Chris': 0.125, 'Emma': 0.25, 'Ed': 0.125, 'Dorothy': 0.125, 'DJ': 0.125}\n",
      "The degrees of all nodes in the network G are {'Anna': 3, 'Bob': 3, 'Caroline': 3, 'Dan': 3, 'Chris': 1, 'Emma': 2, 'Ed': 1, 'Dorothy': 1, 'DJ': 1}\n",
      "The node with the highest degree centrality value in G is: Anna\n",
      "Remember to not us max(G_dc) as the result will be: Emma\n",
      "The highest degree node is: Anna\n",
      "Remember not to use simply max function as the answer will be: ('Emma', 2)\n"
     ]
    }
   ],
   "source": [
    "G_dc = nx.degree_centrality(G)\n",
    "print(\"Degree centrality of all nodes in G (G_dc):\", G_dc)\n",
    "\n",
    "G_degree = dict(G.degree())\n",
    "print(\"The degrees of all nodes in the network G are\", G_degree)\n",
    "\n",
    "G_highest_degreen_centr_node = max(G.nodes, key=G_dc.get)\n",
    "print(\"The node with the highest degree centrality value in G is:\", G_highest_degreen_centr_node)\n",
    "print(\"Remember to not us max(G_dc) as the result will be:\" , max(G_dc))\n",
    "\n",
    "highest_degree_node =  max(G.nodes, key=G_degree.get)\n",
    "print(\"The highest degree node is:\", highest_degree_node)\n",
    "print(\"Remember not to use simply max function as the answer will be:\", max(G.degree))\n",
    "\n"
   ]
  },
  {
   "cell_type": "markdown",
   "metadata": {},
   "source": [
    "Great, so Anna is the hub, right? \n",
    "\n",
    "Or is there somethings suspicious here? \n",
    "...\n",
    "\n",
    "...\n",
    "\n",
    "...\n",
    "\n",
    "*look at the graph above*\n",
    "\n",
    "...\n",
    "\n",
    "...\n",
    "\n",
    "...\n",
    "\n",
    "*look at the numbers of all the nodes*\n",
    "\n",
    "...\n",
    "\n",
    "...\n",
    "\n",
    "...\n",
    "\n",
    "Yes, Anna has the same degree (and normalised degree centrality) as a few other nodes in the network (for example Bob and Caroline). \n",
    "\n",
    "Let's fix it:"
   ]
  },
  {
   "cell_type": "code",
   "execution_count": 198,
   "metadata": {},
   "outputs": [
    {
     "name": "stdout",
     "output_type": "stream",
     "text": [
      "['Anna']\n",
      "['Anna', 'Bob']\n",
      "['Anna', 'Bob', 'Caroline']\n",
      "['Anna', 'Bob', 'Caroline', 'Dan']\n",
      "['Anna', 'Bob', 'Caroline', 'Dan']\n",
      "['Anna', 'Bob', 'Caroline', 'Dan']\n",
      "['Anna', 'Bob', 'Caroline', 'Dan']\n",
      "['Anna', 'Bob', 'Caroline', 'Dan']\n",
      "['Anna', 'Bob', 'Caroline', 'Dan']\n",
      "The nodes with the highest degree centrality are: ['Anna', 'Bob', 'Caroline', 'Dan']\n"
     ]
    }
   ],
   "source": [
    "max_centrality = max(G_dc.values())\n",
    "highest_degree_central_nodes = []\n",
    "for node, centrality in G_dc.items():\n",
    "    if centrality == max_centrality:\n",
    "        highest_degree_central_nodes.append(node)\n",
    "    print(highest_degree_central_nodes)   \n",
    "\n",
    "print(\"The nodes with the highest degree centrality are:\", highest_degree_central_nodes)"
   ]
  },
  {
   "cell_type": "markdown",
   "metadata": {},
   "source": [
    "The same can be expressed in the following way:"
   ]
  },
  {
   "cell_type": "code",
   "execution_count": 199,
   "metadata": {},
   "outputs": [
    {
     "name": "stdout",
     "output_type": "stream",
     "text": [
      "['Anna', 'Bob', 'Caroline', 'Dan']\n"
     ]
    }
   ],
   "source": [
    "max_centrality = max(G_dc.values())\n",
    "highest_degree_central_nodes = [node for node, centrality in G_dc.items() if centrality == max_centrality]\n",
    "print(highest_degree_central_nodes)"
   ]
  },
  {
   "cell_type": "markdown",
   "metadata": {},
   "source": [
    "Fine, so now we know that Anna, Bob, Caroline and Dan are equally important, but are they really? \n",
    "Let's test some of the measures we've learned today. "
   ]
  },
  {
   "cell_type": "markdown",
   "metadata": {},
   "source": [
    "### Exercise 1.2:  Eigenvector Centrality in undirected network"
   ]
  },
  {
   "cell_type": "markdown",
   "metadata": {},
   "source": [
    "Before we move to measuring eigenvector centrality, let's look at the matrix underlying our graph. We use the `adjacency_matrix` function for this: \n"
   ]
  },
  {
   "cell_type": "code",
   "execution_count": 200,
   "metadata": {},
   "outputs": [
    {
     "name": "stdout",
     "output_type": "stream",
     "text": [
      "[[0 1 1 1 0 0 0 0 0]\n",
      " [1 0 1 0 0 1 0 0 0]\n",
      " [1 1 0 0 1 0 0 0 0]\n",
      " [1 0 0 0 0 0 0 1 1]\n",
      " [0 0 1 0 0 0 0 0 0]\n",
      " [0 1 0 0 0 0 1 0 0]\n",
      " [0 0 0 0 0 1 0 0 0]\n",
      " [0 0 0 1 0 0 0 0 0]\n",
      " [0 0 0 1 0 0 0 0 0]]\n"
     ]
    }
   ],
   "source": [
    "A = nx.adjacency_matrix(G)\n",
    "B = A.toarray()\n",
    "print(B)\n",
    "\n"
   ]
  },
  {
   "cell_type": "markdown",
   "metadata": {},
   "source": [
    "From there we can calculate eigenvalues and eigenvectors for our matrix (or rather array) using `linalg` (lineal algebra) function from `numpy`. "
   ]
  },
  {
   "cell_type": "code",
   "execution_count": 201,
   "metadata": {},
   "outputs": [
    {
     "name": "stdout",
     "output_type": "stream",
     "text": [
      "Eigenvalues: [ 2.49242715e+00  1.50360690e+00  1.06885919e+00 -1.94804474e+00\n",
      " -1.72607493e+00 -1.13171240e+00 -5.14219411e-01  2.55158246e-01\n",
      "  1.31843716e-33]\n",
      "Eigenvectors: [[ 5.22916359e-01  1.07185110e-01  1.28049320e-01  5.41731543e-01\n",
      "  -7.57121502e-02  2.12112011e-01 -4.75928544e-01 -3.57726607e-01\n",
      "   2.96739974e-18]\n",
      " [ 5.03221687e-01 -2.66603134e-01 -7.81226890e-02 -2.96266548e-01\n",
      "  -5.37563249e-01 -9.27672343e-02  4.22847610e-01 -3.24705364e-01\n",
      "   2.53936069e-18]\n",
      " [ 4.90690633e-01 -1.90113923e-01  3.74593233e-01 -1.71090380e-01\n",
      "   5.34805615e-01 -4.81043356e-01 -3.71071896e-02  1.86254371e-01\n",
      "  -3.07892054e-17]\n",
      " [ 3.09418610e-01  6.17881328e-01 -1.59603851e-01 -5.87960354e-01\n",
      "   1.33442478e-01  3.33760798e-01 -1.41008724e-01  4.71740988e-02\n",
      "   2.82498447e-17]\n",
      " [ 1.96872608e-01 -1.26438581e-01  3.50460788e-01  8.78267203e-02\n",
      "  -3.09839165e-01  4.25057954e-01  7.21621720e-02  7.29956309e-01\n",
      "  -1.85199913e-17]\n",
      " [ 2.40636403e-01 -3.17937498e-01 -5.86144707e-01  2.06499328e-01\n",
      "   4.68780982e-01  3.73917174e-01  2.95599285e-01  8.86209849e-02\n",
      "  -2.46661439e-18]\n",
      " [ 9.65470156e-02 -2.11449880e-01 -5.48383467e-01 -1.06003381e-01\n",
      "  -2.71587852e-01 -3.30399468e-01 -5.74850500e-01  3.47317739e-01\n",
      "   4.61338657e-17]\n",
      " [ 1.24143492e-01  4.10932758e-01 -1.49321682e-01  3.01820765e-01\n",
      "  -7.73097830e-02 -2.94916622e-01  2.74218984e-01  1.84881734e-01\n",
      "  -7.07106781e-01]\n",
      " [ 1.24143492e-01  4.10932758e-01 -1.49321682e-01  3.01820765e-01\n",
      "  -7.73097830e-02 -2.94916622e-01  2.74218984e-01  1.84881734e-01\n",
      "   7.07106781e-01]]\n"
     ]
    }
   ],
   "source": [
    "\n",
    "eigenvalues, eigenvectors = np.linalg.eig(B)\n",
    "\n",
    "print(\"Eigenvalues:\", eigenvalues)\n",
    "print(\"Eigenvectors:\", eigenvectors)\n"
   ]
  },
  {
   "cell_type": "markdown",
   "metadata": {},
   "source": [
    "We won't code the matrix calculation by hand here, as it requires us to not only know the eigenvalue, but also remember about iterations and tolerances. \n",
    "\n",
    "Instead we will use the NetworkX functions\n",
    "-  `eigenvector_centrality(G, max_iter=100, tol=1e-06, nstart=None, weight=None)` (documented here: https://networkx.org/documentation/stable/reference/algorithms/generated/networkx.algorithms.centrality.eigenvector_centrality.html).\n",
    "- `eigenvector_centrality_numpy(G, weight=None, max_iter=50, tol=0)` (documented here: https://networkx.org/documentation/stable/reference/algorithms/generated/networkx.algorithms.centrality.eigenvector_centrality_numpy.html).\n",
    "\n",
    "If you want to test these NetworkX functions feel free to give it a go.\n",
    "\n",
    "You might want to check these videos to help you out refreshing how matrix multiplication works: \n",
    "\n",
    "- Shreesudha Kembhavi, EigenVector Centrality & Katz Centrality,  https://www.youtube.com/watch?v=-LO9NLaccFQ\n",
    "\n",
    "- Natarajan Meghanathan, Eigenvector Centrality, https://www.youtube.com/watch?v=AjacGClQ56o"
   ]
  },
  {
   "cell_type": "code",
   "execution_count": 202,
   "metadata": {},
   "outputs": [
    {
     "name": "stdout",
     "output_type": "stream",
     "text": [
      "Eigenvector centrality of all nodes in G: {'Anna': 0.522916359234866, 'Bob': 0.5032216872162681, 'Caroline': 0.49069063278268515, 'Dan': 0.30941860988815867, 'Chris': 0.19687260796273648, 'Emma': 0.24063640265957165, 'Ed': 0.09654701556803945, 'Dorothy': 0.12414349207245746, 'DJ': 0.12414349207245746}\n",
      "Max EC value is: 0.522916359234866\n",
      "The nodes with highest EC in G are:  ['Anna']\n",
      "Remember to not use max(G_ec) as the result will be: Emma\n"
     ]
    }
   ],
   "source": [
    "G_ec_n = nx.eigenvector_centrality_numpy(G) \n",
    "print(\"Eigenvector centrality of all nodes in G:\", G_ec_n)\n",
    "max_centrality = max(G_ec_n.values())\n",
    "print(\"Max EC value is:\", max_centrality)\n",
    "highest_EC_nodes = [node for node, centrality in G_ec_n.items() if centrality == max_centrality]\n",
    "print(\"The nodes with highest EC in G are: \", highest_EC_nodes)\n",
    "print(\"Remember to not use max(G_ec) as the result will be:\" , max(G_ec_n))\n"
   ]
  },
  {
   "cell_type": "code",
   "execution_count": 203,
   "metadata": {},
   "outputs": [
    {
     "name": "stdout",
     "output_type": "stream",
     "text": [
      "Eigenvector centrality of all nodes in G: {'Anna': 0.5229171749788479, 'Bob': 0.5032196467946493, 'Caroline': 0.4906891574309109, 'Dan': 0.3094233548346655, 'Chris': 0.1968716219708427, 'Emma': 0.24063399265615323, 'Ed': 0.09654542024597401, 'Dorothy': 0.12414664982404672, 'DJ': 0.12414664982404672}\n",
      "Max EC value is: 0.5229171749788479\n",
      "The nodes with highest EC in G are:  ['Anna']\n",
      "Remember to not use max(G_ec) as the result will be: Emma\n"
     ]
    }
   ],
   "source": [
    "G_ec = nx.eigenvector_centrality(G)\n",
    "print(\"Eigenvector centrality of all nodes in G:\", G_ec)\n",
    "max_centrality = max(G_ec.values())\n",
    "print(\"Max EC value is:\", max_centrality)\n",
    "highest_EC_nodes = [node for node, centrality in G_ec.items() if centrality == max_centrality]\n",
    "print(\"The nodes with highest EC in G are: \", highest_EC_nodes)\n",
    "print(\"Remember to not use max(G_ec) as the result will be:\" , max(G_ec))\n"
   ]
  },
  {
   "cell_type": "markdown",
   "metadata": {},
   "source": [
    "As you see above, there is a small difference in the value you get by using these two functions. The difference is visible at the 6th decimal place. \n",
    "\n",
    "This is not a significant difference when we work with undirected networks, but it matters a lot when we work with directed networks (more about it below). \n",
    "\n",
    "So for know we learned that even though Anna, Bob, Caroline and Dan appeared as hubs due to their degrees, \n",
    "Anna has the highest score for eigenvector centrality when we take into account the importance of all of her connections.  \n",
    "We can sort of list and see how Bob, Caroline, and Dan perform when it comes to their eigenvector centrality:"
   ]
  },
  {
   "cell_type": "code",
   "execution_count": 204,
   "metadata": {},
   "outputs": [
    {
     "name": "stdout",
     "output_type": "stream",
     "text": [
      "\n",
      "EC:\n",
      "\n",
      "Anna: 0.5229171749788479\n",
      "Bob: 0.5032196467946493\n",
      "Caroline: 0.4906891574309109\n",
      "Dan: 0.3094233548346655\n",
      "Emma: 0.24063399265615323\n",
      "Chris: 0.1968716219708427\n",
      "Dorothy: 0.12414664982404672\n",
      "DJ: 0.12414664982404672\n",
      "Ed: 0.09654542024597401\n",
      "\n",
      "ECN:\n",
      "\n",
      "Anna: 0.522916359234866\n",
      "Bob: 0.5032216872162681\n",
      "Caroline: 0.49069063278268515\n",
      "Dan: 0.30941860988815867\n",
      "Emma: 0.24063640265957165\n",
      "Chris: 0.19687260796273648\n",
      "Dorothy: 0.12414349207245746\n",
      "DJ: 0.12414349207245746\n",
      "Ed: 0.09654701556803945\n"
     ]
    }
   ],
   "source": [
    "# Sort directly by value\n",
    "sorted_ec = dict(sorted(G_ec.items(), key=lambda x: x[1], reverse=True))\n",
    "sorted_ec_n = dict(sorted(G_ec_n.items(), key=lambda x: x[1], reverse=True))\n",
    "\n",
    "print(\"\\nEC:\\n\")\n",
    "# Print the sorted results for ec\n",
    "for node, centrality in sorted_ec.items():\n",
    "    print(f\"{node}: {centrality}\")\n",
    "\n",
    "print(\"\\nECN:\\n\")\n",
    "# Print the sorted results for ec_n   \n",
    "for node, centrality in sorted_ec_n.items():\n",
    "    print(f\"{node}: {centrality}\")\n"
   ]
  },
  {
   "cell_type": "markdown",
   "metadata": {},
   "source": [
    "So it looks like in our case, it does not matter than much whether we use degree centrality or eigenvector centrality, as the same nodes ned up on the top of the list, but this does not have to be a case in more complex networks - so always check! \n",
    "\n",
    "\n",
    "## Exercise 2: Centrality in directed network \n",
    "\n",
    "\n",
    "Now, during the lecture I told you that simple eigenvector centrality doesn't work well on directed networks. \n",
    "Let's test it by converting our graph (undirected network) to a digraph (directed network) "
   ]
  },
  {
   "cell_type": "code",
   "execution_count": 205,
   "metadata": {},
   "outputs": [
    {
     "data": {
      "image/png": "[encoded data removed]",
      "text/plain": [
       "<Figure size 640x480 with 1 Axes>"
      ]
     },
     "metadata": {},
     "output_type": "display_data"
    }
   ],
   "source": [
    "D = nx.DiGraph()\n",
    "D.add_edges_from(relationships)\n",
    "pos = nx.nx_agraph.graphviz_layout(D, prog=\"twopi\")\n",
    "nx.draw_networkx(D, pos, alpha=0.5)"
   ]
  },
  {
   "cell_type": "markdown",
   "metadata": {},
   "source": [
    "\n",
    "\n",
    "### 2.1 Eigenvector centrality \n",
    "\n",
    "We are going to check whether we can get the simple eigenvector centrality measure for our digraph `D`. \n"
   ]
  },
  {
   "cell_type": "markdown",
   "metadata": {},
   "source": [
    "But first let's check how the matrix looks like."
   ]
  },
  {
   "cell_type": "code",
   "execution_count": 206,
   "metadata": {},
   "outputs": [
    {
     "name": "stdout",
     "output_type": "stream",
     "text": [
      "[[0 1 1 1 0 0 0 0 0]\n",
      " [0 0 1 0 0 1 0 0 0]\n",
      " [0 0 0 0 1 0 0 0 0]\n",
      " [0 0 0 0 0 0 0 1 1]\n",
      " [0 0 0 0 0 0 0 0 0]\n",
      " [0 0 0 0 0 0 1 0 0]\n",
      " [0 0 0 0 0 0 0 0 0]\n",
      " [0 0 0 0 0 0 0 0 0]\n",
      " [0 0 0 0 0 0 0 0 0]]\n"
     ]
    }
   ],
   "source": [
    "A1 = nx.adjacency_matrix(D)\n",
    "B1 = A1.toarray()\n",
    "print(B1)"
   ]
  },
  {
   "cell_type": "markdown",
   "metadata": {},
   "source": [
    "Examine the matrix. \n",
    "Remind yourself the equation for the eigenvector centrality measure (See: Newman 2010, Networks: An Introduction, p. 171). \n",
    "Do you see any possible problems?\n",
    "\n",
    "Let's check the two functions, we've introduced above:"
   ]
  },
  {
   "cell_type": "code",
   "execution_count": 207,
   "metadata": {},
   "outputs": [
    {
     "ename": "AmbiguousSolution",
     "evalue": "`eigenvector_centrality_numpy` does not give consistent results for disconnected graphs",
     "output_type": "error",
     "traceback": [
      "\u001b[0;31m---------------------------------------------------------------------------\u001b[0m",
      "\u001b[0;31mAmbiguousSolution\u001b[0m                         Traceback (most recent call last)",
      "Cell \u001b[0;32mIn[207], line 1\u001b[0m\n\u001b[0;32m----> 1\u001b[0m D_ec_n \u001b[38;5;241m=\u001b[39m \u001b[43mnx\u001b[49m\u001b[38;5;241;43m.\u001b[39;49m\u001b[43meigenvector_centrality_numpy\u001b[49m\u001b[43m(\u001b[49m\u001b[43mD\u001b[49m\u001b[43m)\u001b[49m \u001b[38;5;66;03m#This will give you an error\u001b[39;00m\n",
      "File \u001b[0;32m<class 'networkx.utils.decorators.argmap'> compilation 48:3\u001b[0m, in \u001b[0;36margmap_eigenvector_centrality_numpy_45\u001b[0;34m(G, weight, max_iter, tol, backend, **backend_kwargs)\u001b[0m\n\u001b[1;32m      1\u001b[0m \u001b[38;5;28;01mimport\u001b[39;00m\u001b[38;5;250m \u001b[39m\u001b[38;5;21;01mbz2\u001b[39;00m\n\u001b[1;32m      2\u001b[0m \u001b[38;5;28;01mimport\u001b[39;00m\u001b[38;5;250m \u001b[39m\u001b[38;5;21;01mcollections\u001b[39;00m\n\u001b[0;32m----> 3\u001b[0m \u001b[38;5;28;01mimport\u001b[39;00m\u001b[38;5;250m \u001b[39m\u001b[38;5;21;01mgzip\u001b[39;00m\n\u001b[1;32m      4\u001b[0m \u001b[38;5;28;01mimport\u001b[39;00m\u001b[38;5;250m \u001b[39m\u001b[38;5;21;01minspect\u001b[39;00m\n\u001b[1;32m      5\u001b[0m \u001b[38;5;28;01mimport\u001b[39;00m\u001b[38;5;250m \u001b[39m\u001b[38;5;21;01mitertools\u001b[39;00m\n",
      "File \u001b[0;32m/opt/anaconda3/envs/NAenv/lib/python3.10/site-packages/networkx/utils/backends.py:967\u001b[0m, in \u001b[0;36m_dispatchable.__call__\u001b[0;34m(self, backend, *args, **kwargs)\u001b[0m\n\u001b[1;32m    965\u001b[0m     \u001b[38;5;28;01mif\u001b[39;00m backend \u001b[38;5;129;01mis\u001b[39;00m \u001b[38;5;129;01mnot\u001b[39;00m \u001b[38;5;28;01mNone\u001b[39;00m \u001b[38;5;129;01mand\u001b[39;00m backend \u001b[38;5;241m!=\u001b[39m \u001b[38;5;124m\"\u001b[39m\u001b[38;5;124mnetworkx\u001b[39m\u001b[38;5;124m\"\u001b[39m:\n\u001b[1;32m    966\u001b[0m         \u001b[38;5;28;01mraise\u001b[39;00m \u001b[38;5;167;01mImportError\u001b[39;00m(\u001b[38;5;124mf\u001b[39m\u001b[38;5;124m\"\u001b[39m\u001b[38;5;124m'\u001b[39m\u001b[38;5;132;01m{\u001b[39;00mbackend\u001b[38;5;132;01m}\u001b[39;00m\u001b[38;5;124m'\u001b[39m\u001b[38;5;124m backend is not installed\u001b[39m\u001b[38;5;124m\"\u001b[39m)\n\u001b[0;32m--> 967\u001b[0m     \u001b[38;5;28;01mreturn\u001b[39;00m \u001b[38;5;28;43mself\u001b[39;49m\u001b[38;5;241;43m.\u001b[39;49m\u001b[43morig_func\u001b[49m\u001b[43m(\u001b[49m\u001b[38;5;241;43m*\u001b[39;49m\u001b[43margs\u001b[49m\u001b[43m,\u001b[49m\u001b[43m \u001b[49m\u001b[38;5;241;43m*\u001b[39;49m\u001b[38;5;241;43m*\u001b[39;49m\u001b[43mkwargs\u001b[49m\u001b[43m)\u001b[49m\n\u001b[1;32m    969\u001b[0m \u001b[38;5;66;03m# Use `backend_name` in this function instead of `backend`.\u001b[39;00m\n\u001b[1;32m    970\u001b[0m \u001b[38;5;66;03m# This is purely for aesthetics and to make it easier to search for this\u001b[39;00m\n\u001b[1;32m    971\u001b[0m \u001b[38;5;66;03m# variable since \"backend\" is used in many comments and log/error messages.\u001b[39;00m\n\u001b[1;32m    972\u001b[0m backend_name \u001b[38;5;241m=\u001b[39m backend\n",
      "File \u001b[0;32m/opt/anaconda3/envs/NAenv/lib/python3.10/site-packages/networkx/algorithms/centrality/eigenvector.py:348\u001b[0m, in \u001b[0;36meigenvector_centrality_numpy\u001b[0;34m(G, weight, max_iter, tol)\u001b[0m\n\u001b[1;32m    346\u001b[0m connected \u001b[38;5;241m=\u001b[39m nx\u001b[38;5;241m.\u001b[39mis_strongly_connected(G) \u001b[38;5;28;01mif\u001b[39;00m G\u001b[38;5;241m.\u001b[39mis_directed() \u001b[38;5;28;01melse\u001b[39;00m nx\u001b[38;5;241m.\u001b[39mis_connected(G)\n\u001b[1;32m    347\u001b[0m \u001b[38;5;28;01mif\u001b[39;00m \u001b[38;5;129;01mnot\u001b[39;00m connected:  \u001b[38;5;66;03m# See gh-6888.\u001b[39;00m\n\u001b[0;32m--> 348\u001b[0m     \u001b[38;5;28;01mraise\u001b[39;00m nx\u001b[38;5;241m.\u001b[39mAmbiguousSolution(\n\u001b[1;32m    349\u001b[0m         \u001b[38;5;124m\"\u001b[39m\u001b[38;5;124m`eigenvector_centrality_numpy` does not give consistent results for disconnected graphs\u001b[39m\u001b[38;5;124m\"\u001b[39m\n\u001b[1;32m    350\u001b[0m     )\n\u001b[1;32m    351\u001b[0m M \u001b[38;5;241m=\u001b[39m nx\u001b[38;5;241m.\u001b[39mto_scipy_sparse_array(G, nodelist\u001b[38;5;241m=\u001b[39m\u001b[38;5;28mlist\u001b[39m(G), weight\u001b[38;5;241m=\u001b[39mweight, dtype\u001b[38;5;241m=\u001b[39m\u001b[38;5;28mfloat\u001b[39m)\n\u001b[1;32m    352\u001b[0m _, eigenvector \u001b[38;5;241m=\u001b[39m sp\u001b[38;5;241m.\u001b[39msparse\u001b[38;5;241m.\u001b[39mlinalg\u001b[38;5;241m.\u001b[39meigs(\n\u001b[1;32m    353\u001b[0m     M\u001b[38;5;241m.\u001b[39mT, k\u001b[38;5;241m=\u001b[39m\u001b[38;5;241m1\u001b[39m, which\u001b[38;5;241m=\u001b[39m\u001b[38;5;124m\"\u001b[39m\u001b[38;5;124mLR\u001b[39m\u001b[38;5;124m\"\u001b[39m, maxiter\u001b[38;5;241m=\u001b[39mmax_iter, tol\u001b[38;5;241m=\u001b[39mtol\n\u001b[1;32m    354\u001b[0m )\n",
      "\u001b[0;31mAmbiguousSolution\u001b[0m: `eigenvector_centrality_numpy` does not give consistent results for disconnected graphs"
     ]
    }
   ],
   "source": [
    "D_ec_n = nx.eigenvector_centrality_numpy(D) #This will give you an error\n"
   ]
  },
  {
   "cell_type": "markdown",
   "metadata": {},
   "source": [
    "Let's see what about the other method: "
   ]
  },
  {
   "cell_type": "code",
   "execution_count": 208,
   "metadata": {},
   "outputs": [
    {
     "ename": "PowerIterationFailedConvergence",
     "evalue": "(PowerIterationFailedConvergence(...), 'power iteration failed to converge within 100 iterations')",
     "output_type": "error",
     "traceback": [
      "\u001b[0;31m---------------------------------------------------------------------------\u001b[0m",
      "\u001b[0;31mPowerIterationFailedConvergence\u001b[0m           Traceback (most recent call last)",
      "Cell \u001b[0;32mIn[208], line 1\u001b[0m\n\u001b[0;32m----> 1\u001b[0m D_ec \u001b[38;5;241m=\u001b[39m \u001b[43mnx\u001b[49m\u001b[38;5;241;43m.\u001b[39;49m\u001b[43meigenvector_centrality\u001b[49m\u001b[43m(\u001b[49m\u001b[43mD\u001b[49m\u001b[43m)\u001b[49m \u001b[38;5;66;03m# This will give an error\u001b[39;00m\n",
      "File \u001b[0;32m<class 'networkx.utils.decorators.argmap'> compilation 29:4\u001b[0m, in \u001b[0;36margmap_eigenvector_centrality_25\u001b[0;34m(G, max_iter, tol, nstart, weight, backend, **backend_kwargs)\u001b[0m\n\u001b[1;32m      2\u001b[0m \u001b[38;5;28;01mimport\u001b[39;00m\u001b[38;5;250m \u001b[39m\u001b[38;5;21;01mcollections\u001b[39;00m\n\u001b[1;32m      3\u001b[0m \u001b[38;5;28;01mimport\u001b[39;00m\u001b[38;5;250m \u001b[39m\u001b[38;5;21;01mgzip\u001b[39;00m\n\u001b[0;32m----> 4\u001b[0m \u001b[38;5;28;01mimport\u001b[39;00m\u001b[38;5;250m \u001b[39m\u001b[38;5;21;01minspect\u001b[39;00m\n\u001b[1;32m      5\u001b[0m \u001b[38;5;28;01mimport\u001b[39;00m\u001b[38;5;250m \u001b[39m\u001b[38;5;21;01mitertools\u001b[39;00m\n\u001b[1;32m      6\u001b[0m \u001b[38;5;28;01mimport\u001b[39;00m\u001b[38;5;250m \u001b[39m\u001b[38;5;21;01mre\u001b[39;00m\n",
      "File \u001b[0;32m/opt/anaconda3/envs/NAenv/lib/python3.10/site-packages/networkx/utils/backends.py:967\u001b[0m, in \u001b[0;36m_dispatchable.__call__\u001b[0;34m(self, backend, *args, **kwargs)\u001b[0m\n\u001b[1;32m    965\u001b[0m     \u001b[38;5;28;01mif\u001b[39;00m backend \u001b[38;5;129;01mis\u001b[39;00m \u001b[38;5;129;01mnot\u001b[39;00m \u001b[38;5;28;01mNone\u001b[39;00m \u001b[38;5;129;01mand\u001b[39;00m backend \u001b[38;5;241m!=\u001b[39m \u001b[38;5;124m\"\u001b[39m\u001b[38;5;124mnetworkx\u001b[39m\u001b[38;5;124m\"\u001b[39m:\n\u001b[1;32m    966\u001b[0m         \u001b[38;5;28;01mraise\u001b[39;00m \u001b[38;5;167;01mImportError\u001b[39;00m(\u001b[38;5;124mf\u001b[39m\u001b[38;5;124m\"\u001b[39m\u001b[38;5;124m'\u001b[39m\u001b[38;5;132;01m{\u001b[39;00mbackend\u001b[38;5;132;01m}\u001b[39;00m\u001b[38;5;124m'\u001b[39m\u001b[38;5;124m backend is not installed\u001b[39m\u001b[38;5;124m\"\u001b[39m)\n\u001b[0;32m--> 967\u001b[0m     \u001b[38;5;28;01mreturn\u001b[39;00m \u001b[38;5;28;43mself\u001b[39;49m\u001b[38;5;241;43m.\u001b[39;49m\u001b[43morig_func\u001b[49m\u001b[43m(\u001b[49m\u001b[38;5;241;43m*\u001b[39;49m\u001b[43margs\u001b[49m\u001b[43m,\u001b[49m\u001b[43m \u001b[49m\u001b[38;5;241;43m*\u001b[39;49m\u001b[38;5;241;43m*\u001b[39;49m\u001b[43mkwargs\u001b[49m\u001b[43m)\u001b[49m\n\u001b[1;32m    969\u001b[0m \u001b[38;5;66;03m# Use `backend_name` in this function instead of `backend`.\u001b[39;00m\n\u001b[1;32m    970\u001b[0m \u001b[38;5;66;03m# This is purely for aesthetics and to make it easier to search for this\u001b[39;00m\n\u001b[1;32m    971\u001b[0m \u001b[38;5;66;03m# variable since \"backend\" is used in many comments and log/error messages.\u001b[39;00m\n\u001b[1;32m    972\u001b[0m backend_name \u001b[38;5;241m=\u001b[39m backend\n",
      "File \u001b[0;32m/opt/anaconda3/envs/NAenv/lib/python3.10/site-packages/networkx/algorithms/centrality/eigenvector.py:194\u001b[0m, in \u001b[0;36meigenvector_centrality\u001b[0;34m(G, max_iter, tol, nstart, weight)\u001b[0m\n\u001b[1;32m    192\u001b[0m     \u001b[38;5;28;01mif\u001b[39;00m \u001b[38;5;28msum\u001b[39m(\u001b[38;5;28mabs\u001b[39m(x[n] \u001b[38;5;241m-\u001b[39m xlast[n]) \u001b[38;5;28;01mfor\u001b[39;00m n \u001b[38;5;129;01min\u001b[39;00m x) \u001b[38;5;241m<\u001b[39m nnodes \u001b[38;5;241m*\u001b[39m tol:\n\u001b[1;32m    193\u001b[0m         \u001b[38;5;28;01mreturn\u001b[39;00m x\n\u001b[0;32m--> 194\u001b[0m \u001b[38;5;28;01mraise\u001b[39;00m nx\u001b[38;5;241m.\u001b[39mPowerIterationFailedConvergence(max_iter)\n",
      "\u001b[0;31mPowerIterationFailedConvergence\u001b[0m: (PowerIterationFailedConvergence(...), 'power iteration failed to converge within 100 iterations')"
     ]
    }
   ],
   "source": [
    "D_ec = nx.eigenvector_centrality(D) # This will give an error"
   ]
  },
  {
   "cell_type": "markdown",
   "metadata": {},
   "source": [
    "So we get errors for both. However changing the number of iterations and tolerances will have influence on the results. Let's start with setting maximum number of iterations to 10000 for `eigenvector_centrality_numpy`"
   ]
  },
  {
   "cell_type": "code",
   "execution_count": 227,
   "metadata": {},
   "outputs": [
    {
     "ename": "AmbiguousSolution",
     "evalue": "`eigenvector_centrality_numpy` does not give consistent results for disconnected graphs",
     "output_type": "error",
     "traceback": [
      "\u001b[0;31m---------------------------------------------------------------------------\u001b[0m",
      "\u001b[0;31mAmbiguousSolution\u001b[0m                         Traceback (most recent call last)",
      "Cell \u001b[0;32mIn[227], line 1\u001b[0m\n\u001b[0;32m----> 1\u001b[0m D_ec_n \u001b[38;5;241m=\u001b[39m \u001b[43mnx\u001b[49m\u001b[38;5;241;43m.\u001b[39;49m\u001b[43meigenvector_centrality_numpy\u001b[49m\u001b[43m(\u001b[49m\u001b[43mD\u001b[49m\u001b[43m,\u001b[49m\u001b[43m \u001b[49m\u001b[43mmax_iter\u001b[49m\u001b[38;5;241;43m=\u001b[39;49m\u001b[38;5;241;43m10000\u001b[39;49m\u001b[43m)\u001b[49m \u001b[38;5;66;03m# This will give you an error\u001b[39;00m\n",
      "File \u001b[0;32m<class 'networkx.utils.decorators.argmap'> compilation 48:3\u001b[0m, in \u001b[0;36margmap_eigenvector_centrality_numpy_45\u001b[0;34m(G, weight, max_iter, tol, backend, **backend_kwargs)\u001b[0m\n\u001b[1;32m      1\u001b[0m \u001b[38;5;28;01mimport\u001b[39;00m\u001b[38;5;250m \u001b[39m\u001b[38;5;21;01mbz2\u001b[39;00m\n\u001b[1;32m      2\u001b[0m \u001b[38;5;28;01mimport\u001b[39;00m\u001b[38;5;250m \u001b[39m\u001b[38;5;21;01mcollections\u001b[39;00m\n\u001b[0;32m----> 3\u001b[0m \u001b[38;5;28;01mimport\u001b[39;00m\u001b[38;5;250m \u001b[39m\u001b[38;5;21;01mgzip\u001b[39;00m\n\u001b[1;32m      4\u001b[0m \u001b[38;5;28;01mimport\u001b[39;00m\u001b[38;5;250m \u001b[39m\u001b[38;5;21;01minspect\u001b[39;00m\n\u001b[1;32m      5\u001b[0m \u001b[38;5;28;01mimport\u001b[39;00m\u001b[38;5;250m \u001b[39m\u001b[38;5;21;01mitertools\u001b[39;00m\n",
      "File \u001b[0;32m/opt/anaconda3/envs/NAenv/lib/python3.10/site-packages/networkx/utils/backends.py:967\u001b[0m, in \u001b[0;36m_dispatchable.__call__\u001b[0;34m(self, backend, *args, **kwargs)\u001b[0m\n\u001b[1;32m    965\u001b[0m     \u001b[38;5;28;01mif\u001b[39;00m backend \u001b[38;5;129;01mis\u001b[39;00m \u001b[38;5;129;01mnot\u001b[39;00m \u001b[38;5;28;01mNone\u001b[39;00m \u001b[38;5;129;01mand\u001b[39;00m backend \u001b[38;5;241m!=\u001b[39m \u001b[38;5;124m\"\u001b[39m\u001b[38;5;124mnetworkx\u001b[39m\u001b[38;5;124m\"\u001b[39m:\n\u001b[1;32m    966\u001b[0m         \u001b[38;5;28;01mraise\u001b[39;00m \u001b[38;5;167;01mImportError\u001b[39;00m(\u001b[38;5;124mf\u001b[39m\u001b[38;5;124m\"\u001b[39m\u001b[38;5;124m'\u001b[39m\u001b[38;5;132;01m{\u001b[39;00mbackend\u001b[38;5;132;01m}\u001b[39;00m\u001b[38;5;124m'\u001b[39m\u001b[38;5;124m backend is not installed\u001b[39m\u001b[38;5;124m\"\u001b[39m)\n\u001b[0;32m--> 967\u001b[0m     \u001b[38;5;28;01mreturn\u001b[39;00m \u001b[38;5;28;43mself\u001b[39;49m\u001b[38;5;241;43m.\u001b[39;49m\u001b[43morig_func\u001b[49m\u001b[43m(\u001b[49m\u001b[38;5;241;43m*\u001b[39;49m\u001b[43margs\u001b[49m\u001b[43m,\u001b[49m\u001b[43m \u001b[49m\u001b[38;5;241;43m*\u001b[39;49m\u001b[38;5;241;43m*\u001b[39;49m\u001b[43mkwargs\u001b[49m\u001b[43m)\u001b[49m\n\u001b[1;32m    969\u001b[0m \u001b[38;5;66;03m# Use `backend_name` in this function instead of `backend`.\u001b[39;00m\n\u001b[1;32m    970\u001b[0m \u001b[38;5;66;03m# This is purely for aesthetics and to make it easier to search for this\u001b[39;00m\n\u001b[1;32m    971\u001b[0m \u001b[38;5;66;03m# variable since \"backend\" is used in many comments and log/error messages.\u001b[39;00m\n\u001b[1;32m    972\u001b[0m backend_name \u001b[38;5;241m=\u001b[39m backend\n",
      "File \u001b[0;32m/opt/anaconda3/envs/NAenv/lib/python3.10/site-packages/networkx/algorithms/centrality/eigenvector.py:348\u001b[0m, in \u001b[0;36meigenvector_centrality_numpy\u001b[0;34m(G, weight, max_iter, tol)\u001b[0m\n\u001b[1;32m    346\u001b[0m connected \u001b[38;5;241m=\u001b[39m nx\u001b[38;5;241m.\u001b[39mis_strongly_connected(G) \u001b[38;5;28;01mif\u001b[39;00m G\u001b[38;5;241m.\u001b[39mis_directed() \u001b[38;5;28;01melse\u001b[39;00m nx\u001b[38;5;241m.\u001b[39mis_connected(G)\n\u001b[1;32m    347\u001b[0m \u001b[38;5;28;01mif\u001b[39;00m \u001b[38;5;129;01mnot\u001b[39;00m connected:  \u001b[38;5;66;03m# See gh-6888.\u001b[39;00m\n\u001b[0;32m--> 348\u001b[0m     \u001b[38;5;28;01mraise\u001b[39;00m nx\u001b[38;5;241m.\u001b[39mAmbiguousSolution(\n\u001b[1;32m    349\u001b[0m         \u001b[38;5;124m\"\u001b[39m\u001b[38;5;124m`eigenvector_centrality_numpy` does not give consistent results for disconnected graphs\u001b[39m\u001b[38;5;124m\"\u001b[39m\n\u001b[1;32m    350\u001b[0m     )\n\u001b[1;32m    351\u001b[0m M \u001b[38;5;241m=\u001b[39m nx\u001b[38;5;241m.\u001b[39mto_scipy_sparse_array(G, nodelist\u001b[38;5;241m=\u001b[39m\u001b[38;5;28mlist\u001b[39m(G), weight\u001b[38;5;241m=\u001b[39mweight, dtype\u001b[38;5;241m=\u001b[39m\u001b[38;5;28mfloat\u001b[39m)\n\u001b[1;32m    352\u001b[0m _, eigenvector \u001b[38;5;241m=\u001b[39m sp\u001b[38;5;241m.\u001b[39msparse\u001b[38;5;241m.\u001b[39mlinalg\u001b[38;5;241m.\u001b[39meigs(\n\u001b[1;32m    353\u001b[0m     M\u001b[38;5;241m.\u001b[39mT, k\u001b[38;5;241m=\u001b[39m\u001b[38;5;241m1\u001b[39m, which\u001b[38;5;241m=\u001b[39m\u001b[38;5;124m\"\u001b[39m\u001b[38;5;124mLR\u001b[39m\u001b[38;5;124m\"\u001b[39m, maxiter\u001b[38;5;241m=\u001b[39mmax_iter, tol\u001b[38;5;241m=\u001b[39mtol\n\u001b[1;32m    354\u001b[0m )\n",
      "\u001b[0;31mAmbiguousSolution\u001b[0m: `eigenvector_centrality_numpy` does not give consistent results for disconnected graphs"
     ]
    }
   ],
   "source": [
    "D_ec_n = nx.eigenvector_centrality_numpy(D, max_iter=10000) # This will give you an error"
   ]
  },
  {
   "cell_type": "markdown",
   "metadata": {},
   "source": [
    "What if we do the same for `eigenvector_centrality`:"
   ]
  },
  {
   "cell_type": "code",
   "execution_count": 228,
   "metadata": {},
   "outputs": [
    {
     "name": "stdout",
     "output_type": "stream",
     "text": [
      "Eigenvector centrality for nodes in D: {'Anna': 3.298706868251659e-09, 'Bob': 3.5889930726578127e-06, 'Caroline': 0.001954206728062182, 'Dan': 3.5889930726578127e-06, 'Chris': 0.7080742410999028, 'Emma': 0.0019506210336963888, 'Ed': 0.7061272090592796, 'Dorothy': 0.0019506210336963888, 'DJ': 0.0019506210336963888}\n"
     ]
    }
   ],
   "source": [
    "D_ec = nx.eigenvector_centrality(D, max_iter=10000) # This won't give you an error, and you can even print its results.\n",
    "print(\"Eigenvector centrality for nodes in D:\", D_ec)\n",
    "\n"
   ]
  },
  {
   "cell_type": "markdown",
   "metadata": {},
   "source": [
    "So we actually got some results, but in 10000 iterations. \n",
    "You can change the max_item to 10000 and you'll still get an error. \n",
    "\n",
    "So after 10000 iterations, we get some results, but, that the values are extremely low. \n",
    "We can round them: "
   ]
  },
  {
   "cell_type": "code",
   "execution_count": 231,
   "metadata": {},
   "outputs": [
    {
     "name": "stdout",
     "output_type": "stream",
     "text": [
      "{'Anna': 1e-05, 'Bob': 1e-05, 'Caroline': 0.00196, 'Dan': 1e-05, 'Chris': 0.70808, 'Emma': 0.00196, 'Ed': 0.70613, 'Dorothy': 0.00196, 'DJ': 0.00196}\n"
     ]
    }
   ],
   "source": [
    "import math\n",
    "rounded_data = {k: math.ceil(v * 100000) / 100000 for k, v in D_ec.items()}\n",
    "print(rounded_data)\n"
   ]
  },
  {
   "cell_type": "markdown",
   "metadata": {},
   "source": [
    "These values are so low, because our matrix had many rows of exclusively zeros (reflecting our graph, which has nodes with no in-coming edges). \n",
    "\n",
    "### You do not want to run this function any large network with nodes that only have outgoing edges. \n",
    "\n",
    "You can check whether the network is strongly connected to make sure what kind of network you're dealing with. \n",
    "\n",
    "As described in (See: Newman 2010, Networks: An Introduction, p. 171), an improved version of simple eigenvector measure is Katz Centrality, which basically allows us to gain insight into the structure of the network in much fewer iterations. "
   ]
  },
  {
   "cell_type": "markdown",
   "metadata": {},
   "source": [
    "\n",
    "### 2.2 Katz Centrality\n",
    "\n",
    "We have learned that improved version of simple eigenvector measure is Katz Centrality, which gives all nodes some importance 'for free'. \n",
    "\n",
    "In NetwrokX we also have two functions that can calculate this measure for us:\n",
    "-  `katz_centrality(G, alpha=0.1, beta=1.0, max_iter=1000, tol=1e-06, nstart=None, normalized=True, weight=None)` (documented here: https://networkx.org/documentation/stable/reference/algorithms/generated/networkx.algorithms.centrality.katz_centrality.html)\n",
    "- `katz_centrality_numpy(G, alpha=0.1, beta=1.0, normalized=True, weight=None)` (documented here: https://networkx.org/documentation/stable/reference/algorithms/generated/networkx.algorithms.centrality.katz_centrality_numpy.html)\n",
    "\n",
    "\n"
   ]
  },
  {
   "cell_type": "code",
   "execution_count": 214,
   "metadata": {},
   "outputs": [
    {
     "name": "stdout",
     "output_type": "stream",
     "text": [
      "{'Anna': 0.30053805707324893, 'Bob': 0.33059186278057384, 'Caroline': 0.36365104905863127, 'Dan': 0.33059186278057384, 'Chris': 0.3369031619791121, 'Emma': 0.33359724335130636, 'Ed': 0.33389778140837956, 'Dorothy': 0.33359724335130636, 'DJ': 0.33359724335130636}\n",
      "{'Anna': 0.30053805707324893, 'Bob': 0.33059186278057384, 'Caroline': 0.3636510490586312, 'Dan': 0.33059186278057384, 'Chris': 0.3369031619791121, 'Emma': 0.33359724335130636, 'Ed': 0.33389778140837956, 'Dorothy': 0.33359724335130636, 'DJ': 0.33359724335130636}\n"
     ]
    }
   ],
   "source": [
    "D_kc_n = nx.katz_centrality_numpy(D)\n",
    "print(D_kc_n)\n",
    "D_kc = nx.katz_centrality(D)\n",
    "print(D_kc)"
   ]
  },
  {
   "cell_type": "code",
   "execution_count": 219,
   "metadata": {},
   "outputs": [
    {
     "name": "stdout",
     "output_type": "stream",
     "text": [
      "\n",
      "KC:\n",
      "\n",
      "Caroline: 0.3636510490586312\n",
      "Chris: 0.3369031619791121\n",
      "Ed: 0.33389778140837956\n",
      "Emma: 0.33359724335130636\n",
      "Dorothy: 0.33359724335130636\n",
      "DJ: 0.33359724335130636\n",
      "Bob: 0.33059186278057384\n",
      "Dan: 0.33059186278057384\n",
      "Anna: 0.30053805707324893\n",
      "\n",
      "KC_N:\n",
      "\n",
      "Caroline: 0.36365104905863127\n",
      "Chris: 0.3369031619791121\n",
      "Ed: 0.33389778140837956\n",
      "Emma: 0.33359724335130636\n",
      "Dorothy: 0.33359724335130636\n",
      "DJ: 0.33359724335130636\n",
      "Bob: 0.33059186278057384\n",
      "Dan: 0.33059186278057384\n",
      "Anna: 0.30053805707324893\n"
     ]
    }
   ],
   "source": [
    "# Sort directly by value\n",
    "sorted_kc = dict(sorted(D_kc.items(), key=lambda x: x[1], reverse=True))\n",
    "sorted_kc_n = dict(sorted(D_kc_n.items(), key=lambda x: x[1], reverse=True))\n",
    "\n",
    "print(\"\\nKC:\\n\")\n",
    "# Print the sorted results for ec\n",
    "for node, centrality in sorted_kc.items():\n",
    "    print(f\"{node}: {centrality}\")\n",
    "\n",
    "print(\"\\nKC_N:\\n\")\n",
    "# Print the sorted results for ec\n",
    "for node, centrality in sorted_kc_n.items():\n",
    "    print(f\"{node}: {centrality}\")"
   ]
  },
  {
   "cell_type": "markdown",
   "metadata": {},
   "source": [
    "So now we start seeing something interesting, if we compare degree centrality with Katz centrality. \n",
    "Anna's centrality has dropped from the first position to the last one.\n",
    "Now Caroline and Chris are at the top of the list. \n",
    "\n",
    "Let's look at our digraph to understand why"
   ]
  },
  {
   "cell_type": "code",
   "execution_count": 215,
   "metadata": {},
   "outputs": [
    {
     "data": {
      "image/png": "[encoded data removed]",
      "text/plain": [
       "<Figure size 640x480 with 1 Axes>"
      ]
     },
     "metadata": {},
     "output_type": "display_data"
    }
   ],
   "source": [
    "nx.draw_networkx(D)"
   ]
  },
  {
   "cell_type": "markdown",
   "metadata": {},
   "source": [
    "Yes, Anna has exclusively outgoing links, so she is less important.\n",
    " \n",
    "If we pretend for a second that this is a network of emails sent between co-workers, it would mean that Anna sends emails to a lot of people (Bob, Caroline, Dan), but they don't answer her. So she cannot that important. \n",
    "\n",
    "If we assume that it is a network representing sharing of SoMe posts, it would suggest that Anna shares posts written by a lot of different people (Bob, Caroline, Dan), but no one ever shares her posts. So again she's not that important. \n",
    "\n",
    "In the same scenario, Caroline posts are shared by other people (Bob and Anna), while Anna doesn't really help with Caroline's prestige in significant way due to her own low position, Bob does, as his posts are shared by Emma (and also Caroline herself), so Caroline is more important, as she can influence more people.\n",
    "\n",
    "But why is Chris also important? Only Caroline shares his posts, just like only Dan shares posts by Dorothy, and only Emma shares posts by Ed etc., so why?\n",
    "\n",
    "Well this is exactly why we use eigenvectors rather than simple in and out degrees, as it represents the structure of the entire network. Chris is influential, because his posts are shared by Caroline, who's influential herself. \n",
    "\n",
    "Let's compare his score with in and out degrees if other nodes:"
   ]
  },
  {
   "cell_type": "code",
   "execution_count": 232,
   "metadata": {},
   "outputs": [
    {
     "name": "stdout",
     "output_type": "stream",
     "text": [
      "In-degrees for all nodes in D are: [('Anna', 0), ('Bob', 1), ('Caroline', 2), ('Dan', 1), ('Chris', 1), ('Emma', 1), ('Ed', 1), ('Dorothy', 1), ('DJ', 1)]\n",
      "In-degree centrality for all nodes in D are {'Anna': 0.0, 'Bob': 0.125, 'Caroline': 0.25, 'Dan': 0.125, 'Chris': 0.125, 'Emma': 0.125, 'Ed': 0.125, 'Dorothy': 0.125, 'DJ': 0.125}\n",
      "Out-degrees for all nodes in D are: [('Anna', 3), ('Bob', 2), ('Caroline', 1), ('Dan', 2), ('Chris', 0), ('Emma', 1), ('Ed', 0), ('Dorothy', 0), ('DJ', 0)]\n",
      "Out-degree centrality for all nodes in D are: {'Anna': 0.375, 'Bob': 0.25, 'Caroline': 0.125, 'Dan': 0.25, 'Chris': 0.0, 'Emma': 0.125, 'Ed': 0.0, 'Dorothy': 0.0, 'DJ': 0.0}\n",
      "\n",
      "Compare with kc:\n",
      "Caroline: 0.36365104905863127\n",
      "Chris: 0.3369031619791121\n",
      "Ed: 0.33389778140837956\n",
      "Emma: 0.33359724335130636\n",
      "Dorothy: 0.33359724335130636\n",
      "DJ: 0.33359724335130636\n",
      "Bob: 0.33059186278057384\n",
      "Dan: 0.33059186278057384\n",
      "Anna: 0.30053805707324893\n"
     ]
    }
   ],
   "source": [
    "D_in_d = D.in_degree()\n",
    "D_indc = nx.in_degree_centrality(D)\n",
    "\n",
    "print(\"In-degrees for all nodes in D are:\", D_in_d)\n",
    "print(\"In-degree centrality for all nodes in D are\", D_indc )\n",
    "\n",
    "D_out_d = D.out_degree()\n",
    "D_outdc = nx.out_degree_centrality(D)\n",
    "print(\"Out-degrees for all nodes in D are:\", D_out_d)\n",
    "print(\"Out-degree centrality for all nodes in D are:\", D_outdc)\n",
    "\n",
    "print(\"\\nCompare with kc:\")\n",
    "for node, centrality in sorted_kc_n.items():\n",
    "    print(f\"{node}: {centrality}\")"
   ]
  },
  {
   "cell_type": "markdown",
   "metadata": {},
   "source": [
    "### Question: In which scenario we might be interested in Anna? "
   ]
  },
  {
   "cell_type": "markdown",
   "metadata": {},
   "source": [
    "\n",
    "\n",
    "### 2.3 PageRank\n",
    "\n",
    "Finally we've learned that even better version of eigenvector centrality measure is PageRank. \n",
    "The definition of this measure is closely connected to how the WWW is structured and it is a backbone of the good performance of Google search engine. \n",
    "\n",
    "However, it can be used to other networks as well to identify potentially interesting nodes. \n",
    "\n",
    "In NetworkX, there is a function `pagerank(G, alpha=0.85, personalization=None, max_iter=100, tol=1e-06, nstart=None, weight='weight', dangling=None)` (documented here: https://networkx.org/documentation/stable/reference/algorithms/generated/networkx.algorithms.link_analysis.pagerank_alg.pagerank.html)\n",
    "\n",
    "\n",
    " This measure will help us identify Chris as important player.\n",
    "\n",
    "\n"
   ]
  },
  {
   "cell_type": "code",
   "execution_count": 224,
   "metadata": {},
   "outputs": [
    {
     "name": "stdout",
     "output_type": "stream",
     "text": [
      "D_pr: {'Anna': 0.06711526087225846, 'Bob': 0.08613135089050816, 'Caroline': 0.12273740680875186, 'Dan': 0.08613135089050816, 'Chris': 0.17144226097410245, 'Emma': 0.10372131679050217, 'Ed': 0.1552784191923641, 'Dorothy': 0.10372131679050217, 'DJ': 0.10372131679050217}\n",
      "Sorted by Page Rank: {'Chris': 0.17144226097410245, 'Ed': 0.1552784191923641, 'Caroline': 0.12273740680875186, 'Emma': 0.10372131679050217, 'Dorothy': 0.10372131679050217, 'DJ': 0.10372131679050217, 'Bob': 0.08613135089050816, 'Dan': 0.08613135089050816, 'Anna': 0.06711526087225846}\n",
      "\n",
      " PR :\n",
      "Chris: 0.17144226097410245\n",
      "Ed: 0.1552784191923641\n",
      "Caroline: 0.12273740680875186\n",
      "Emma: 0.10372131679050217\n",
      "Dorothy: 0.10372131679050217\n",
      "DJ: 0.10372131679050217\n",
      "Bob: 0.08613135089050816\n",
      "Dan: 0.08613135089050816\n",
      "Anna: 0.06711526087225846\n",
      "Remember that max(D_pr) is not the right way to check what's the highest score or who has it, as the answer is always Emma\n"
     ]
    }
   ],
   "source": [
    "D_pr = nx.pagerank(D)\n",
    "print(\"D_pr:\", D_pr)\n",
    "\n",
    "sorted_pr= dict(sorted(D_pr.items(), key=lambda x: x[1], reverse=True))\n",
    "print(\"Sorted by Page Rank:\", sorted_pr)\n",
    "\n",
    "print(\"\\n PR :\")\n",
    "for node, centrality in sorted_pr.items():\n",
    "    print(f\"{node}: {centrality}\")\n",
    "\n",
    "print(\"Remember that max(D_pr) is not the right way to check what's the highest score or who has it, as the answer is always\" , max(D_pr))"
   ]
  },
  {
   "cell_type": "markdown",
   "metadata": {},
   "source": [
    "You might have noticed that with max 10000 iteration `eigenvector_centrality` also identified Chris as the most important node, but `pagerank` can find him within 100. \n"
   ]
  },
  {
   "cell_type": "markdown",
   "metadata": {},
   "source": [
    "## Exercise 3 Weight\n",
    "In class we learned that in many cases weight is important for measuring prestige and influence. \n",
    "We've also learned that all NetworkX functions we introduced have an option to include weight as a variable in the calculation, by why is it useful.\n",
    "\n",
    "Let's try to test it by a series of exercises inspired by Exercise 4.1 in Menczer, Fortunato, Davis, 2020, *A First Course in Network Science*  \n",
    "\n",
    "### Exercise 3.1 \n",
    "\n",
    "Go to the French version of the Wikipedia article on 'network science' (https://fr.wikipedia.org/wiki/Science_des_réseaux).\n",
    "\n",
    "We want to learn something about other Wikipedia pages (and other sources) to which this page points, so we are interested in the outgoing links of this page. \n",
    "\n",
    "How would you represent the relationships between this page and its sources if you were to create a network? Do not write any code yet, just think and make notes. \n",
    "\n",
    "Based on your modelling (and manual counting), what is the out-degree of this page in the Wikipedia network?\n"
   ]
  },
  {
   "cell_type": "markdown",
   "metadata": {},
   "source": [
    "*Answers:* \n"
   ]
  },
  {
   "cell_type": "markdown",
   "metadata": {},
   "source": [
    "\n",
    "### Exercise 3.2 \n",
    "\n",
    "Go to the English version of the Wikipedia article on 'network science' (en.wikipedia.org/wiki/Network_science). \n",
    "\n",
    "Using the same approach as in Ex 3.2, what is the out-degree of this page? \n",
    "\n",
    "What the difference tells us about the nature of these two pages? \n",
    "\n",
    "Do you have weights included in your model? \n",
    "If yes, what are they? Why did you include them? Why are they useful?\n",
    "\n",
    "If no, can you include them? How, what would they be?  Why they might be useful? \n"
   ]
  },
  {
   "cell_type": "markdown",
   "metadata": {},
   "source": [
    "*Answers:* "
   ]
  },
  {
   "cell_type": "markdown",
   "metadata": {},
   "source": [
    "\n",
    "\n",
    "### Exercise 3.3 \n",
    "\n",
    "Build two ego-networks for the articles (one for French 'Science_des_réseaux' and one for English 'Network_science').\n",
    "\n",
    "The ego network consists of one node (the ego), all of its neighbors, and all of the links among them. The definition of a directed ego network is analogous, replacing neighbors by successors.\n",
    "\n",
    "What is the node in the 'network science' ego network with the\n",
    "maximum out-degree? And in 'Science des réseaux'? \n",
    "\n",
    "What is the node in the 'network science' ego network with the\n",
    "maximum in-degree? And in 'Science des réseaux'? \n",
    "\n",
    "\n",
    "\n",
    "\n",
    "\n"
   ]
  },
  {
   "cell_type": "markdown",
   "metadata": {},
   "source": [
    "*Answers:*"
   ]
  },
  {
   "cell_type": "code",
   "execution_count": null,
   "metadata": {},
   "outputs": [],
   "source": [
    "# Type your answers here."
   ]
  }
 ],
 "metadata": {
  "kernelspec": {
   "display_name": "NAenv",
   "language": "python",
   "name": "python3"
  },
  "language_info": {
   "codemirror_mode": {
    "name": "ipython",
    "version": 3
   },
   "file_extension": ".py",
   "mimetype": "text/x-python",
   "name": "python",
   "nbconvert_exporter": "python",
   "pygments_lexer": "ipython3",
   "version": "3.10.16"
  }
 },
 "nbformat": 4,
 "nbformat_minor": 2
}
